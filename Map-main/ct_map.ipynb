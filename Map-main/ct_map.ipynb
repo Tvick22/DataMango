{
 "cells": [
  {
   "cell_type": "markdown",
   "id": "e0ddb6a3",
   "metadata": {},
   "source": [
    "# US CT Interactive Map"
   ]
  },
  {
   "cell_type": "code",
   "execution_count": 1,
   "id": "950b61e6",
   "metadata": {},
   "outputs": [],
   "source": [
    "import pandas as pd\n",
    "import geopandas as gpd\n",
    "import plotly.express as px\n",
    "import pydeck as pdk"
   ]
  },
  {
   "cell_type": "markdown",
   "id": "ae5bd808",
   "metadata": {
    "tags": []
   },
   "source": [
    "## Population Data"
   ]
  },
  {
   "cell_type": "code",
   "execution_count": 2,
   "id": "69d8a5f6",
   "metadata": {},
   "outputs": [],
   "source": [
    "df = pd.read_csv(\"./data/DECENNIALDHC2020.P1-2023-09-13T170415.csv\")"
   ]
  },
  {
   "cell_type": "code",
   "execution_count": 3,
   "id": "648a4a7a",
   "metadata": {},
   "outputs": [
    {
     "data": {
      "text/plain": [
       "(1, 884)"
      ]
     },
     "execution_count": 3,
     "metadata": {},
     "output_type": "execute_result"
    }
   ],
   "source": [
    "df.shape"
   ]
  },
  {
   "cell_type": "code",
   "execution_count": 4,
   "id": "3ceeba2a",
   "metadata": {},
   "outputs": [
    {
     "name": "stdout",
     "output_type": "stream",
     "text": [
      "<class 'pandas.core.frame.DataFrame'>\n",
      "RangeIndex: 1 entries, 0 to 0\n",
      "Columns: 884 entries, Label (Grouping) to Census Tract 9081, Windham County, Connecticut\n",
      "dtypes: int64(10), object(874)\n",
      "memory usage: 7.0+ KB\n"
     ]
    }
   ],
   "source": [
    "df.info()"
   ]
  },
  {
   "cell_type": "code",
   "execution_count": 5,
   "id": "80c28fcd",
   "metadata": {},
   "outputs": [],
   "source": [
    "df.drop(columns=['Label (Grouping)'], inplace=True)"
   ]
  },
  {
   "cell_type": "code",
   "execution_count": 6,
   "id": "e9cc4d54",
   "metadata": {},
   "outputs": [],
   "source": [
    "df = df.T"
   ]
  },
  {
   "cell_type": "code",
   "execution_count": 7,
   "id": "f351a0c2",
   "metadata": {},
   "outputs": [],
   "source": [
    "df.columns = ['POPULATION']"
   ]
  },
  {
   "cell_type": "code",
   "execution_count": 8,
   "id": "794b29b0",
   "metadata": {},
   "outputs": [
    {
     "name": "stdout",
     "output_type": "stream",
     "text": [
      "<class 'pandas.core.frame.DataFrame'>\n",
      "Index: 883 entries, Census Tract 101.01, Fairfield County, Connecticut to Census Tract 9081, Windham County, Connecticut\n",
      "Data columns (total 1 columns):\n",
      " #   Column      Non-Null Count  Dtype \n",
      "---  ------      --------------  ----- \n",
      " 0   POPULATION  883 non-null    object\n",
      "dtypes: object(1)\n",
      "memory usage: 13.8+ KB\n"
     ]
    }
   ],
   "source": [
    "df.info()"
   ]
  },
  {
   "cell_type": "code",
   "execution_count": 9,
   "id": "7e43ce82",
   "metadata": {},
   "outputs": [],
   "source": [
    "df = df.rename_axis('Info').reset_index()"
   ]
  },
  {
   "cell_type": "code",
   "execution_count": 10,
   "id": "628410cc",
   "metadata": {},
   "outputs": [],
   "source": [
    "df[\"NAME\"] = df.apply(lambda x: x['Info'].split(\",\")[0].split(\" \")[2], axis=1)"
   ]
  },
  {
   "cell_type": "code",
   "execution_count": 11,
   "id": "8389495e",
   "metadata": {},
   "outputs": [],
   "source": [
    "df['COUNTY'] = df.apply(lambda x: x['Info'].split(\",\")[1], axis=1)"
   ]
  },
  {
   "cell_type": "code",
   "execution_count": 12,
   "id": "6e5c8e92",
   "metadata": {},
   "outputs": [
    {
     "data": {
      "text/html": [
       "<div>\n",
       "<style scoped>\n",
       "    .dataframe tbody tr th:only-of-type {\n",
       "        vertical-align: middle;\n",
       "    }\n",
       "\n",
       "    .dataframe tbody tr th {\n",
       "        vertical-align: top;\n",
       "    }\n",
       "\n",
       "    .dataframe thead th {\n",
       "        text-align: right;\n",
       "    }\n",
       "</style>\n",
       "<table border=\"1\" class=\"dataframe\">\n",
       "  <thead>\n",
       "    <tr style=\"text-align: right;\">\n",
       "      <th></th>\n",
       "      <th>Info</th>\n",
       "      <th>POPULATION</th>\n",
       "      <th>NAME</th>\n",
       "      <th>COUNTY</th>\n",
       "    </tr>\n",
       "  </thead>\n",
       "  <tbody>\n",
       "    <tr>\n",
       "      <th>0</th>\n",
       "      <td>Census Tract 101.01, Fairfield County, Connect...</td>\n",
       "      <td>4,401</td>\n",
       "      <td>101.01</td>\n",
       "      <td>Fairfield County</td>\n",
       "    </tr>\n",
       "    <tr>\n",
       "      <th>1</th>\n",
       "      <td>Census Tract 101.02, Fairfield County, Connect...</td>\n",
       "      <td>4,276</td>\n",
       "      <td>101.02</td>\n",
       "      <td>Fairfield County</td>\n",
       "    </tr>\n",
       "    <tr>\n",
       "      <th>2</th>\n",
       "      <td>Census Tract 102.01, Fairfield County, Connect...</td>\n",
       "      <td>3,395</td>\n",
       "      <td>102.01</td>\n",
       "      <td>Fairfield County</td>\n",
       "    </tr>\n",
       "  </tbody>\n",
       "</table>\n",
       "</div>"
      ],
      "text/plain": [
       "                                                Info POPULATION    NAME  \\\n",
       "0  Census Tract 101.01, Fairfield County, Connect...      4,401  101.01   \n",
       "1  Census Tract 101.02, Fairfield County, Connect...      4,276  101.02   \n",
       "2  Census Tract 102.01, Fairfield County, Connect...      3,395  102.01   \n",
       "\n",
       "              COUNTY  \n",
       "0   Fairfield County  \n",
       "1   Fairfield County  \n",
       "2   Fairfield County  "
      ]
     },
     "execution_count": 12,
     "metadata": {},
     "output_type": "execute_result"
    }
   ],
   "source": [
    "df.head(3)"
   ]
  },
  {
   "cell_type": "code",
   "execution_count": 13,
   "id": "ec3ae83a",
   "metadata": {},
   "outputs": [],
   "source": [
    "df.drop(columns=['Info'], inplace=True)"
   ]
  },
  {
   "cell_type": "code",
   "execution_count": 14,
   "id": "d824f8df",
   "metadata": {},
   "outputs": [
    {
     "data": {
      "text/html": [
       "<div>\n",
       "<style scoped>\n",
       "    .dataframe tbody tr th:only-of-type {\n",
       "        vertical-align: middle;\n",
       "    }\n",
       "\n",
       "    .dataframe tbody tr th {\n",
       "        vertical-align: top;\n",
       "    }\n",
       "\n",
       "    .dataframe thead th {\n",
       "        text-align: right;\n",
       "    }\n",
       "</style>\n",
       "<table border=\"1\" class=\"dataframe\">\n",
       "  <thead>\n",
       "    <tr style=\"text-align: right;\">\n",
       "      <th></th>\n",
       "      <th>POPULATION</th>\n",
       "      <th>NAME</th>\n",
       "      <th>COUNTY</th>\n",
       "    </tr>\n",
       "  </thead>\n",
       "  <tbody>\n",
       "    <tr>\n",
       "      <th>0</th>\n",
       "      <td>4,401</td>\n",
       "      <td>101.01</td>\n",
       "      <td>Fairfield County</td>\n",
       "    </tr>\n",
       "    <tr>\n",
       "      <th>1</th>\n",
       "      <td>4,276</td>\n",
       "      <td>101.02</td>\n",
       "      <td>Fairfield County</td>\n",
       "    </tr>\n",
       "    <tr>\n",
       "      <th>2</th>\n",
       "      <td>3,395</td>\n",
       "      <td>102.01</td>\n",
       "      <td>Fairfield County</td>\n",
       "    </tr>\n",
       "    <tr>\n",
       "      <th>3</th>\n",
       "      <td>5,904</td>\n",
       "      <td>102.02</td>\n",
       "      <td>Fairfield County</td>\n",
       "    </tr>\n",
       "    <tr>\n",
       "      <th>4</th>\n",
       "      <td>4,370</td>\n",
       "      <td>103</td>\n",
       "      <td>Fairfield County</td>\n",
       "    </tr>\n",
       "  </tbody>\n",
       "</table>\n",
       "</div>"
      ],
      "text/plain": [
       "  POPULATION    NAME             COUNTY\n",
       "0      4,401  101.01   Fairfield County\n",
       "1      4,276  101.02   Fairfield County\n",
       "2      3,395  102.01   Fairfield County\n",
       "3      5,904  102.02   Fairfield County\n",
       "4      4,370     103   Fairfield County"
      ]
     },
     "execution_count": 14,
     "metadata": {},
     "output_type": "execute_result"
    }
   ],
   "source": [
    "df.head()"
   ]
  },
  {
   "cell_type": "code",
   "execution_count": 15,
   "id": "5b9a9754",
   "metadata": {},
   "outputs": [
    {
     "data": {
      "text/plain": [
       "(883, 3)"
      ]
     },
     "execution_count": 15,
     "metadata": {},
     "output_type": "execute_result"
    }
   ],
   "source": [
    "df.shape"
   ]
  },
  {
   "cell_type": "markdown",
   "id": "579f8872",
   "metadata": {
    "heading_collapsed": true,
    "tags": []
   },
   "source": [
    "## Shapefiles"
   ]
  },
  {
   "cell_type": "code",
   "execution_count": 16,
   "id": "0a58d0d5",
   "metadata": {
    "hidden": true
   },
   "outputs": [],
   "source": [
    "gdf = gpd.read_file(\"./data/tl_2020_09_tract/tl_2020_09_tract.shp\")"
   ]
  },
  {
   "cell_type": "code",
   "execution_count": 17,
   "id": "dd5bd614",
   "metadata": {
    "hidden": true
   },
   "outputs": [
    {
     "data": {
      "text/plain": [
       "(883, 13)"
      ]
     },
     "execution_count": 17,
     "metadata": {},
     "output_type": "execute_result"
    }
   ],
   "source": [
    "gdf.shape"
   ]
  },
  {
   "cell_type": "code",
   "execution_count": 18,
   "id": "e6269044",
   "metadata": {
    "hidden": true
   },
   "outputs": [
    {
     "name": "stdout",
     "output_type": "stream",
     "text": [
      "<class 'geopandas.geodataframe.GeoDataFrame'>\n",
      "RangeIndex: 883 entries, 0 to 882\n",
      "Data columns (total 13 columns):\n",
      " #   Column    Non-Null Count  Dtype   \n",
      "---  ------    --------------  -----   \n",
      " 0   STATEFP   883 non-null    object  \n",
      " 1   COUNTYFP  883 non-null    object  \n",
      " 2   TRACTCE   883 non-null    object  \n",
      " 3   GEOID     883 non-null    object  \n",
      " 4   NAME      883 non-null    object  \n",
      " 5   NAMELSAD  883 non-null    object  \n",
      " 6   MTFCC     883 non-null    object  \n",
      " 7   FUNCSTAT  883 non-null    object  \n",
      " 8   ALAND     883 non-null    int64   \n",
      " 9   AWATER    883 non-null    int64   \n",
      " 10  INTPTLAT  883 non-null    object  \n",
      " 11  INTPTLON  883 non-null    object  \n",
      " 12  geometry  883 non-null    geometry\n",
      "dtypes: geometry(1), int64(2), object(10)\n",
      "memory usage: 89.8+ KB\n"
     ]
    }
   ],
   "source": [
    "gdf.info()"
   ]
  },
  {
   "cell_type": "markdown",
   "id": "56ea24e7",
   "metadata": {
    "tags": []
   },
   "source": [
    "## Merging Population to Shapefiles"
   ]
  },
  {
   "cell_type": "code",
   "execution_count": 20,
   "id": "3d3a97c0",
   "metadata": {},
   "outputs": [
    {
     "data": {
      "text/plain": [
       "(883, 13)"
      ]
     },
     "execution_count": 20,
     "metadata": {},
     "output_type": "execute_result"
    }
   ],
   "source": [
    "gdf.shape"
   ]
  },
  {
   "cell_type": "code",
   "execution_count": 21,
   "id": "498bbd09",
   "metadata": {},
   "outputs": [
    {
     "data": {
      "text/plain": [
       "(883, 3)"
      ]
     },
     "execution_count": 21,
     "metadata": {},
     "output_type": "execute_result"
    }
   ],
   "source": [
    "df.shape"
   ]
  },
  {
   "cell_type": "code",
   "execution_count": 22,
   "id": "d2b774d5",
   "metadata": {},
   "outputs": [],
   "source": [
    "complete_df = gdf.merge(df, how=\"left\")"
   ]
  },
  {
   "cell_type": "code",
   "execution_count": 24,
   "id": "90a88bc0",
   "metadata": {},
   "outputs": [
    {
     "data": {
      "text/html": [
       "<div>\n",
       "<style scoped>\n",
       "    .dataframe tbody tr th:only-of-type {\n",
       "        vertical-align: middle;\n",
       "    }\n",
       "\n",
       "    .dataframe tbody tr th {\n",
       "        vertical-align: top;\n",
       "    }\n",
       "\n",
       "    .dataframe thead th {\n",
       "        text-align: right;\n",
       "    }\n",
       "</style>\n",
       "<table border=\"1\" class=\"dataframe\">\n",
       "  <thead>\n",
       "    <tr style=\"text-align: right;\">\n",
       "      <th></th>\n",
       "      <th>STATEFP</th>\n",
       "      <th>COUNTYFP</th>\n",
       "      <th>TRACTCE</th>\n",
       "      <th>GEOID</th>\n",
       "      <th>NAME</th>\n",
       "      <th>NAMELSAD</th>\n",
       "      <th>MTFCC</th>\n",
       "      <th>FUNCSTAT</th>\n",
       "      <th>ALAND</th>\n",
       "      <th>AWATER</th>\n",
       "      <th>INTPTLAT</th>\n",
       "      <th>INTPTLON</th>\n",
       "      <th>geometry</th>\n",
       "      <th>POPULATION</th>\n",
       "      <th>COUNTY</th>\n",
       "    </tr>\n",
       "  </thead>\n",
       "  <tbody>\n",
       "    <tr>\n",
       "      <th>0</th>\n",
       "      <td>09</td>\n",
       "      <td>009</td>\n",
       "      <td>350400</td>\n",
       "      <td>09009350400</td>\n",
       "      <td>3504</td>\n",
       "      <td>Census Tract 3504</td>\n",
       "      <td>G5020</td>\n",
       "      <td>S</td>\n",
       "      <td>424642</td>\n",
       "      <td>0</td>\n",
       "      <td>+41.5572464</td>\n",
       "      <td>-073.0300616</td>\n",
       "      <td>POLYGON ((-73.03440 41.55468, -73.03428 41.555...</td>\n",
       "      <td>2,846</td>\n",
       "      <td>New Haven County</td>\n",
       "    </tr>\n",
       "  </tbody>\n",
       "</table>\n",
       "</div>"
      ],
      "text/plain": [
       "  STATEFP COUNTYFP TRACTCE        GEOID  NAME           NAMELSAD  MTFCC  \\\n",
       "0      09      009  350400  09009350400  3504  Census Tract 3504  G5020   \n",
       "\n",
       "  FUNCSTAT   ALAND  AWATER     INTPTLAT      INTPTLON  \\\n",
       "0        S  424642       0  +41.5572464  -073.0300616   \n",
       "\n",
       "                                            geometry POPULATION  \\\n",
       "0  POLYGON ((-73.03440 41.55468, -73.03428 41.555...      2,846   \n",
       "\n",
       "              COUNTY  \n",
       "0   New Haven County  "
      ]
     },
     "execution_count": 24,
     "metadata": {},
     "output_type": "execute_result"
    }
   ],
   "source": [
    "complete_df.head(1)"
   ]
  },
  {
   "cell_type": "code",
   "execution_count": 25,
   "id": "4b086743",
   "metadata": {},
   "outputs": [
    {
     "name": "stdout",
     "output_type": "stream",
     "text": [
      "<class 'geopandas.geodataframe.GeoDataFrame'>\n",
      "Int64Index: 887 entries, 0 to 886\n",
      "Data columns (total 15 columns):\n",
      " #   Column      Non-Null Count  Dtype   \n",
      "---  ------      --------------  -----   \n",
      " 0   STATEFP     887 non-null    object  \n",
      " 1   COUNTYFP    887 non-null    object  \n",
      " 2   TRACTCE     887 non-null    object  \n",
      " 3   GEOID       887 non-null    object  \n",
      " 4   NAME        887 non-null    object  \n",
      " 5   NAMELSAD    887 non-null    object  \n",
      " 6   MTFCC       887 non-null    object  \n",
      " 7   FUNCSTAT    887 non-null    object  \n",
      " 8   ALAND       887 non-null    int64   \n",
      " 9   AWATER      887 non-null    int64   \n",
      " 10  INTPTLAT    887 non-null    object  \n",
      " 11  INTPTLON    887 non-null    object  \n",
      " 12  geometry    887 non-null    geometry\n",
      " 13  POPULATION  887 non-null    object  \n",
      " 14  COUNTY      887 non-null    object  \n",
      "dtypes: geometry(1), int64(2), object(12)\n",
      "memory usage: 110.9+ KB\n"
     ]
    }
   ],
   "source": [
    "complete_df.info()"
   ]
  },
  {
   "cell_type": "code",
   "execution_count": 30,
   "id": "3250df91-ac6a-4932-9912-e2a770336c51",
   "metadata": {},
   "outputs": [
    {
     "data": {
      "text/html": [
       "<div>\n",
       "<style scoped>\n",
       "    .dataframe tbody tr th:only-of-type {\n",
       "        vertical-align: middle;\n",
       "    }\n",
       "\n",
       "    .dataframe tbody tr th {\n",
       "        vertical-align: top;\n",
       "    }\n",
       "\n",
       "    .dataframe thead th {\n",
       "        text-align: right;\n",
       "    }\n",
       "</style>\n",
       "<table border=\"1\" class=\"dataframe\">\n",
       "  <thead>\n",
       "    <tr style=\"text-align: right;\">\n",
       "      <th></th>\n",
       "      <th>STATEFP</th>\n",
       "      <th>COUNTYFP</th>\n",
       "      <th>TRACTCE</th>\n",
       "      <th>GEOID</th>\n",
       "      <th>NAME</th>\n",
       "      <th>NAMELSAD</th>\n",
       "      <th>MTFCC</th>\n",
       "      <th>FUNCSTAT</th>\n",
       "      <th>ALAND</th>\n",
       "      <th>AWATER</th>\n",
       "      <th>INTPTLAT</th>\n",
       "      <th>INTPTLON</th>\n",
       "      <th>geometry</th>\n",
       "      <th>POPULATION</th>\n",
       "      <th>COUNTY</th>\n",
       "    </tr>\n",
       "  </thead>\n",
       "  <tbody>\n",
       "    <tr>\n",
       "      <th>0</th>\n",
       "      <td>09</td>\n",
       "      <td>009</td>\n",
       "      <td>350400</td>\n",
       "      <td>09009350400</td>\n",
       "      <td>3504</td>\n",
       "      <td>Census Tract 3504</td>\n",
       "      <td>G5020</td>\n",
       "      <td>S</td>\n",
       "      <td>424642</td>\n",
       "      <td>0</td>\n",
       "      <td>+41.5572464</td>\n",
       "      <td>-073.0300616</td>\n",
       "      <td>POLYGON ((-73.03440 41.55468, -73.03428 41.555...</td>\n",
       "      <td>2,846</td>\n",
       "      <td>New Haven County</td>\n",
       "    </tr>\n",
       "  </tbody>\n",
       "</table>\n",
       "</div>"
      ],
      "text/plain": [
       "  STATEFP COUNTYFP TRACTCE        GEOID  NAME           NAMELSAD  MTFCC  \\\n",
       "0      09      009  350400  09009350400  3504  Census Tract 3504  G5020   \n",
       "\n",
       "  FUNCSTAT   ALAND  AWATER     INTPTLAT      INTPTLON  \\\n",
       "0        S  424642       0  +41.5572464  -073.0300616   \n",
       "\n",
       "                                            geometry POPULATION  \\\n",
       "0  POLYGON ((-73.03440 41.55468, -73.03428 41.555...      2,846   \n",
       "\n",
       "              COUNTY  \n",
       "0   New Haven County  "
      ]
     },
     "execution_count": 30,
     "metadata": {},
     "output_type": "execute_result"
    }
   ],
   "source": [
    "complete_df.head(1)"
   ]
  },
  {
   "cell_type": "code",
   "execution_count": 136,
   "id": "78a2d483",
   "metadata": {},
   "outputs": [],
   "source": [
    "complete_df.to_file(\"./data/connecticut_tracts.json\", driver=\"GeoJSON\")"
   ]
  },
  {
   "cell_type": "markdown",
   "id": "dd7490f0",
   "metadata": {},
   "source": [
    "# Mapping"
   ]
  },
  {
   "cell_type": "code",
   "execution_count": 31,
   "id": "6a407b9c",
   "metadata": {},
   "outputs": [],
   "source": [
    "ct_tracts = gpd.read_file(\"./data/connecticut_tracts.json\")"
   ]
  },
  {
   "cell_type": "code",
   "execution_count": 32,
   "id": "bb0b278b",
   "metadata": {
    "tags": []
   },
   "outputs": [
    {
     "name": "stdout",
     "output_type": "stream",
     "text": [
      "<class 'geopandas.geodataframe.GeoDataFrame'>\n",
      "RangeIndex: 887 entries, 0 to 886\n",
      "Data columns (total 15 columns):\n",
      " #   Column      Non-Null Count  Dtype   \n",
      "---  ------      --------------  -----   \n",
      " 0   STATEFP     887 non-null    object  \n",
      " 1   COUNTYFP    887 non-null    object  \n",
      " 2   TRACTCE     887 non-null    object  \n",
      " 3   GEOID       887 non-null    object  \n",
      " 4   NAME        887 non-null    object  \n",
      " 5   NAMELSAD    887 non-null    object  \n",
      " 6   MTFCC       887 non-null    object  \n",
      " 7   FUNCSTAT    887 non-null    object  \n",
      " 8   ALAND       887 non-null    int64   \n",
      " 9   AWATER      887 non-null    int64   \n",
      " 10  INTPTLAT    887 non-null    object  \n",
      " 11  INTPTLON    887 non-null    object  \n",
      " 12  POPULATION  887 non-null    object  \n",
      " 13  COUNTY      887 non-null    object  \n",
      " 14  geometry    887 non-null    geometry\n",
      "dtypes: geometry(1), int64(2), object(12)\n",
      "memory usage: 104.1+ KB\n"
     ]
    }
   ],
   "source": [
    "ct_tracts.info()"
   ]
  },
  {
   "cell_type": "code",
   "execution_count": 33,
   "id": "ece672bc-0ff7-48cd-87a2-6923b4520d84",
   "metadata": {
    "tags": []
   },
   "outputs": [
    {
     "data": {
      "text/html": [
       "<div>\n",
       "<style scoped>\n",
       "    .dataframe tbody tr th:only-of-type {\n",
       "        vertical-align: middle;\n",
       "    }\n",
       "\n",
       "    .dataframe tbody tr th {\n",
       "        vertical-align: top;\n",
       "    }\n",
       "\n",
       "    .dataframe thead th {\n",
       "        text-align: right;\n",
       "    }\n",
       "</style>\n",
       "<table border=\"1\" class=\"dataframe\">\n",
       "  <thead>\n",
       "    <tr style=\"text-align: right;\">\n",
       "      <th></th>\n",
       "      <th>STATEFP</th>\n",
       "      <th>COUNTYFP</th>\n",
       "      <th>TRACTCE</th>\n",
       "      <th>GEOID</th>\n",
       "      <th>NAME</th>\n",
       "      <th>NAMELSAD</th>\n",
       "      <th>MTFCC</th>\n",
       "      <th>FUNCSTAT</th>\n",
       "      <th>ALAND</th>\n",
       "      <th>AWATER</th>\n",
       "      <th>INTPTLAT</th>\n",
       "      <th>INTPTLON</th>\n",
       "      <th>POPULATION</th>\n",
       "      <th>COUNTY</th>\n",
       "      <th>geometry</th>\n",
       "    </tr>\n",
       "  </thead>\n",
       "  <tbody>\n",
       "    <tr>\n",
       "      <th>0</th>\n",
       "      <td>09</td>\n",
       "      <td>009</td>\n",
       "      <td>350400</td>\n",
       "      <td>09009350400</td>\n",
       "      <td>3504</td>\n",
       "      <td>Census Tract 3504</td>\n",
       "      <td>G5020</td>\n",
       "      <td>S</td>\n",
       "      <td>424642</td>\n",
       "      <td>0</td>\n",
       "      <td>+41.5572464</td>\n",
       "      <td>-073.0300616</td>\n",
       "      <td>2,846</td>\n",
       "      <td>New Haven County</td>\n",
       "      <td>POLYGON ((-73.03440 41.55468, -73.03428 41.555...</td>\n",
       "    </tr>\n",
       "    <tr>\n",
       "      <th>1</th>\n",
       "      <td>09</td>\n",
       "      <td>009</td>\n",
       "      <td>350500</td>\n",
       "      <td>09009350500</td>\n",
       "      <td>3505</td>\n",
       "      <td>Census Tract 3505</td>\n",
       "      <td>G5020</td>\n",
       "      <td>S</td>\n",
       "      <td>781540</td>\n",
       "      <td>0</td>\n",
       "      <td>+41.5477163</td>\n",
       "      <td>-073.0339000</td>\n",
       "      <td>2,693</td>\n",
       "      <td>New Haven County</td>\n",
       "      <td>POLYGON ((-73.04241 41.55167, -73.04230 41.551...</td>\n",
       "    </tr>\n",
       "  </tbody>\n",
       "</table>\n",
       "</div>"
      ],
      "text/plain": [
       "  STATEFP COUNTYFP TRACTCE        GEOID  NAME           NAMELSAD  MTFCC  \\\n",
       "0      09      009  350400  09009350400  3504  Census Tract 3504  G5020   \n",
       "1      09      009  350500  09009350500  3505  Census Tract 3505  G5020   \n",
       "\n",
       "  FUNCSTAT   ALAND  AWATER     INTPTLAT      INTPTLON POPULATION  \\\n",
       "0        S  424642       0  +41.5572464  -073.0300616      2,846   \n",
       "1        S  781540       0  +41.5477163  -073.0339000      2,693   \n",
       "\n",
       "              COUNTY                                           geometry  \n",
       "0   New Haven County  POLYGON ((-73.03440 41.55468, -73.03428 41.555...  \n",
       "1   New Haven County  POLYGON ((-73.04241 41.55167, -73.04230 41.551...  "
      ]
     },
     "execution_count": 33,
     "metadata": {},
     "output_type": "execute_result"
    }
   ],
   "source": [
    "ct_tracts.head(2)"
   ]
  },
  {
   "cell_type": "markdown",
   "id": "56fd3817-539d-4bb4-ab32-86765748378b",
   "metadata": {},
   "source": [
    "> Was having a problem with the above geojson file. As it was exactly what I wanted but when I created the map only a few tracts where being extruded. After looking at the dataframe it is clear now that the reason has to do with the POPULATION column data type. The comma is throwing it off and it's not multiplying it for the elevation parameter in the Layer constructor.  "
   ]
  },
  {
   "cell_type": "code",
   "execution_count": 34,
   "id": "818c4177-8b72-4943-9876-bc632006c8bc",
   "metadata": {},
   "outputs": [],
   "source": [
    "ct_tracts['POPULATION'] = ct_tracts['POPULATION'].apply(lambda x: int(x.replace(\",\", \"\")))"
   ]
  },
  {
   "cell_type": "code",
   "execution_count": 35,
   "id": "63d0670d-ee15-4618-920f-38ee2a9add83",
   "metadata": {
    "tags": []
   },
   "outputs": [
    {
     "name": "stdout",
     "output_type": "stream",
     "text": [
      "<class 'geopandas.geodataframe.GeoDataFrame'>\n",
      "RangeIndex: 887 entries, 0 to 886\n",
      "Data columns (total 15 columns):\n",
      " #   Column      Non-Null Count  Dtype   \n",
      "---  ------      --------------  -----   \n",
      " 0   STATEFP     887 non-null    object  \n",
      " 1   COUNTYFP    887 non-null    object  \n",
      " 2   TRACTCE     887 non-null    object  \n",
      " 3   GEOID       887 non-null    object  \n",
      " 4   NAME        887 non-null    object  \n",
      " 5   NAMELSAD    887 non-null    object  \n",
      " 6   MTFCC       887 non-null    object  \n",
      " 7   FUNCSTAT    887 non-null    object  \n",
      " 8   ALAND       887 non-null    int64   \n",
      " 9   AWATER      887 non-null    int64   \n",
      " 10  INTPTLAT    887 non-null    object  \n",
      " 11  INTPTLON    887 non-null    object  \n",
      " 12  POPULATION  887 non-null    int64   \n",
      " 13  COUNTY      887 non-null    object  \n",
      " 14  geometry    887 non-null    geometry\n",
      "dtypes: geometry(1), int64(3), object(11)\n",
      "memory usage: 104.1+ KB\n"
     ]
    }
   ],
   "source": [
    "ct_tracts.info()"
   ]
  },
  {
   "cell_type": "markdown",
   "id": "602ac850-dd7b-4807-ae56-d561ad38fd8e",
   "metadata": {},
   "source": [
    "> Now adding a column with the density of population per square mile"
   ]
  },
  {
   "cell_type": "code",
   "execution_count": 36,
   "id": "59c288f6-026b-4b53-b5e3-6cd5325e6f58",
   "metadata": {},
   "outputs": [],
   "source": [
    "ct_tracts[\"POPDEN\"]=ct_tracts['POPULATION']/(ct_tracts['ALAND']*0.0000003861)"
   ]
  },
  {
   "cell_type": "code",
   "execution_count": 37,
   "id": "84a31856-37de-4f31-af6c-badfca49a523",
   "metadata": {},
   "outputs": [
    {
     "data": {
      "text/html": [
       "<div>\n",
       "<style scoped>\n",
       "    .dataframe tbody tr th:only-of-type {\n",
       "        vertical-align: middle;\n",
       "    }\n",
       "\n",
       "    .dataframe tbody tr th {\n",
       "        vertical-align: top;\n",
       "    }\n",
       "\n",
       "    .dataframe thead th {\n",
       "        text-align: right;\n",
       "    }\n",
       "</style>\n",
       "<table border=\"1\" class=\"dataframe\">\n",
       "  <thead>\n",
       "    <tr style=\"text-align: right;\">\n",
       "      <th></th>\n",
       "      <th>STATEFP</th>\n",
       "      <th>COUNTYFP</th>\n",
       "      <th>TRACTCE</th>\n",
       "      <th>GEOID</th>\n",
       "      <th>NAME</th>\n",
       "      <th>NAMELSAD</th>\n",
       "      <th>MTFCC</th>\n",
       "      <th>FUNCSTAT</th>\n",
       "      <th>ALAND</th>\n",
       "      <th>AWATER</th>\n",
       "      <th>INTPTLAT</th>\n",
       "      <th>INTPTLON</th>\n",
       "      <th>POPULATION</th>\n",
       "      <th>COUNTY</th>\n",
       "      <th>geometry</th>\n",
       "      <th>POPDEN</th>\n",
       "    </tr>\n",
       "  </thead>\n",
       "  <tbody>\n",
       "    <tr>\n",
       "      <th>0</th>\n",
       "      <td>09</td>\n",
       "      <td>009</td>\n",
       "      <td>350400</td>\n",
       "      <td>09009350400</td>\n",
       "      <td>3504</td>\n",
       "      <td>Census Tract 3504</td>\n",
       "      <td>G5020</td>\n",
       "      <td>S</td>\n",
       "      <td>424642</td>\n",
       "      <td>0</td>\n",
       "      <td>+41.5572464</td>\n",
       "      <td>-073.0300616</td>\n",
       "      <td>2846</td>\n",
       "      <td>New Haven County</td>\n",
       "      <td>POLYGON ((-73.03440 41.55468, -73.03428 41.555...</td>\n",
       "      <td>17358.498149</td>\n",
       "    </tr>\n",
       "    <tr>\n",
       "      <th>1</th>\n",
       "      <td>09</td>\n",
       "      <td>009</td>\n",
       "      <td>350500</td>\n",
       "      <td>09009350500</td>\n",
       "      <td>3505</td>\n",
       "      <td>Census Tract 3505</td>\n",
       "      <td>G5020</td>\n",
       "      <td>S</td>\n",
       "      <td>781540</td>\n",
       "      <td>0</td>\n",
       "      <td>+41.5477163</td>\n",
       "      <td>-073.0339000</td>\n",
       "      <td>2693</td>\n",
       "      <td>New Haven County</td>\n",
       "      <td>POLYGON ((-73.04241 41.55167, -73.04230 41.551...</td>\n",
       "      <td>8924.529742</td>\n",
       "    </tr>\n",
       "  </tbody>\n",
       "</table>\n",
       "</div>"
      ],
      "text/plain": [
       "  STATEFP COUNTYFP TRACTCE        GEOID  NAME           NAMELSAD  MTFCC  \\\n",
       "0      09      009  350400  09009350400  3504  Census Tract 3504  G5020   \n",
       "1      09      009  350500  09009350500  3505  Census Tract 3505  G5020   \n",
       "\n",
       "  FUNCSTAT   ALAND  AWATER     INTPTLAT      INTPTLON  POPULATION  \\\n",
       "0        S  424642       0  +41.5572464  -073.0300616        2846   \n",
       "1        S  781540       0  +41.5477163  -073.0339000        2693   \n",
       "\n",
       "              COUNTY                                           geometry  \\\n",
       "0   New Haven County  POLYGON ((-73.03440 41.55468, -73.03428 41.555...   \n",
       "1   New Haven County  POLYGON ((-73.04241 41.55167, -73.04230 41.551...   \n",
       "\n",
       "         POPDEN  \n",
       "0  17358.498149  \n",
       "1   8924.529742  "
      ]
     },
     "execution_count": 37,
     "metadata": {},
     "output_type": "execute_result"
    }
   ],
   "source": [
    "ct_tracts.head(2)"
   ]
  },
  {
   "cell_type": "markdown",
   "id": "e9615251-e202-4c8f-a69c-00ac100a0021",
   "metadata": {},
   "source": [
    "> Adding a column with the POPDEN normalized using Min-Max feature scaling to have a value between 0 and 1 for the alpha in fill color"
   ]
  },
  {
   "cell_type": "code",
   "execution_count": 38,
   "id": "7c71e9c6-dc58-4c73-83ff-814bbf55c264",
   "metadata": {},
   "outputs": [],
   "source": [
    "ct_tracts[\"POPDENNORM\"] = ct_tracts['POPDEN'].apply(\n",
    "    lambda x: (255+((x - ct_tracts['POPDEN'].min())*(255)) )\n",
    "            / (ct_tracts['POPDEN'].max() - ct_tracts['POPDEN'].min()) )"
   ]
  },
  {
   "cell_type": "code",
   "execution_count": 39,
   "id": "cd3fff3a-f089-4c4e-af0d-1a7ae92b1e71",
   "metadata": {},
   "outputs": [
    {
     "data": {
      "text/html": [
       "<div>\n",
       "<style scoped>\n",
       "    .dataframe tbody tr th:only-of-type {\n",
       "        vertical-align: middle;\n",
       "    }\n",
       "\n",
       "    .dataframe tbody tr th {\n",
       "        vertical-align: top;\n",
       "    }\n",
       "\n",
       "    .dataframe thead th {\n",
       "        text-align: right;\n",
       "    }\n",
       "</style>\n",
       "<table border=\"1\" class=\"dataframe\">\n",
       "  <thead>\n",
       "    <tr style=\"text-align: right;\">\n",
       "      <th></th>\n",
       "      <th>STATEFP</th>\n",
       "      <th>COUNTYFP</th>\n",
       "      <th>TRACTCE</th>\n",
       "      <th>GEOID</th>\n",
       "      <th>NAME</th>\n",
       "      <th>NAMELSAD</th>\n",
       "      <th>MTFCC</th>\n",
       "      <th>FUNCSTAT</th>\n",
       "      <th>ALAND</th>\n",
       "      <th>AWATER</th>\n",
       "      <th>INTPTLAT</th>\n",
       "      <th>INTPTLON</th>\n",
       "      <th>POPULATION</th>\n",
       "      <th>COUNTY</th>\n",
       "      <th>geometry</th>\n",
       "      <th>POPDEN</th>\n",
       "      <th>POPDENNORM</th>\n",
       "    </tr>\n",
       "  </thead>\n",
       "  <tbody>\n",
       "    <tr>\n",
       "      <th>0</th>\n",
       "      <td>09</td>\n",
       "      <td>009</td>\n",
       "      <td>350400</td>\n",
       "      <td>09009350400</td>\n",
       "      <td>3504</td>\n",
       "      <td>Census Tract 3504</td>\n",
       "      <td>G5020</td>\n",
       "      <td>S</td>\n",
       "      <td>424642</td>\n",
       "      <td>0</td>\n",
       "      <td>+41.5572464</td>\n",
       "      <td>-073.0300616</td>\n",
       "      <td>2846</td>\n",
       "      <td>New Haven County</td>\n",
       "      <td>POLYGON ((-73.03440 41.55468, -73.03428 41.555...</td>\n",
       "      <td>17358.498149</td>\n",
       "      <td>117.144622</td>\n",
       "    </tr>\n",
       "    <tr>\n",
       "      <th>1</th>\n",
       "      <td>09</td>\n",
       "      <td>009</td>\n",
       "      <td>350500</td>\n",
       "      <td>09009350500</td>\n",
       "      <td>3505</td>\n",
       "      <td>Census Tract 3505</td>\n",
       "      <td>G5020</td>\n",
       "      <td>S</td>\n",
       "      <td>781540</td>\n",
       "      <td>0</td>\n",
       "      <td>+41.5477163</td>\n",
       "      <td>-073.0339000</td>\n",
       "      <td>2693</td>\n",
       "      <td>New Haven County</td>\n",
       "      <td>POLYGON ((-73.04241 41.55167, -73.04230 41.551...</td>\n",
       "      <td>8924.529742</td>\n",
       "      <td>60.230878</td>\n",
       "    </tr>\n",
       "  </tbody>\n",
       "</table>\n",
       "</div>"
      ],
      "text/plain": [
       "  STATEFP COUNTYFP TRACTCE        GEOID  NAME           NAMELSAD  MTFCC  \\\n",
       "0      09      009  350400  09009350400  3504  Census Tract 3504  G5020   \n",
       "1      09      009  350500  09009350500  3505  Census Tract 3505  G5020   \n",
       "\n",
       "  FUNCSTAT   ALAND  AWATER     INTPTLAT      INTPTLON  POPULATION  \\\n",
       "0        S  424642       0  +41.5572464  -073.0300616        2846   \n",
       "1        S  781540       0  +41.5477163  -073.0339000        2693   \n",
       "\n",
       "              COUNTY                                           geometry  \\\n",
       "0   New Haven County  POLYGON ((-73.03440 41.55468, -73.03428 41.555...   \n",
       "1   New Haven County  POLYGON ((-73.04241 41.55167, -73.04230 41.551...   \n",
       "\n",
       "         POPDEN  POPDENNORM  \n",
       "0  17358.498149  117.144622  \n",
       "1   8924.529742   60.230878  "
      ]
     },
     "execution_count": 39,
     "metadata": {},
     "output_type": "execute_result"
    }
   ],
   "source": [
    "ct_tracts.head(2)"
   ]
  },
  {
   "cell_type": "code",
   "execution_count": 41,
   "id": "767d4530-0187-4ea3-9fd6-141ade5060be",
   "metadata": {},
   "outputs": [
    {
     "data": {
      "text/plain": [
       "STATEFP       0\n",
       "COUNTYFP      0\n",
       "TRACTCE       0\n",
       "GEOID         0\n",
       "NAME          0\n",
       "NAMELSAD      0\n",
       "MTFCC         0\n",
       "FUNCSTAT      0\n",
       "ALAND         0\n",
       "AWATER        0\n",
       "INTPTLAT      0\n",
       "INTPTLON      0\n",
       "POPULATION    0\n",
       "COUNTY        0\n",
       "geometry      0\n",
       "POPDEN        8\n",
       "POPDENNORM    8\n",
       "dtype: int64"
      ]
     },
     "execution_count": 41,
     "metadata": {},
     "output_type": "execute_result"
    }
   ],
   "source": [
    "ct_tracts.isnull().sum()"
   ]
  },
  {
   "cell_type": "code",
   "execution_count": 42,
   "id": "4fb10543-c8d4-4b52-8924-7af5cccfe60b",
   "metadata": {},
   "outputs": [],
   "source": [
    "ct_tracts.fillna(0, inplace=True)"
   ]
  },
  {
   "cell_type": "code",
   "execution_count": 43,
   "id": "d4903194-08e3-4c5f-a169-579961b6e15b",
   "metadata": {},
   "outputs": [
    {
     "data": {
      "text/plain": [
       "STATEFP       0\n",
       "COUNTYFP      0\n",
       "TRACTCE       0\n",
       "GEOID         0\n",
       "NAME          0\n",
       "NAMELSAD      0\n",
       "MTFCC         0\n",
       "FUNCSTAT      0\n",
       "ALAND         0\n",
       "AWATER        0\n",
       "INTPTLAT      0\n",
       "INTPTLON      0\n",
       "POPULATION    0\n",
       "COUNTY        0\n",
       "geometry      0\n",
       "POPDEN        0\n",
       "POPDENNORM    0\n",
       "dtype: int64"
      ]
     },
     "execution_count": 43,
     "metadata": {},
     "output_type": "execute_result"
    }
   ],
   "source": [
    "ct_tracts.isnull().sum()"
   ]
  },
  {
   "cell_type": "code",
   "execution_count": 45,
   "id": "7799fa67-33d3-47c7-b413-21fd10e17c92",
   "metadata": {},
   "outputs": [
    {
     "data": {
      "text/html": [
       "<div>\n",
       "<style scoped>\n",
       "    .dataframe tbody tr th:only-of-type {\n",
       "        vertical-align: middle;\n",
       "    }\n",
       "\n",
       "    .dataframe tbody tr th {\n",
       "        vertical-align: top;\n",
       "    }\n",
       "\n",
       "    .dataframe thead th {\n",
       "        text-align: right;\n",
       "    }\n",
       "</style>\n",
       "<table border=\"1\" class=\"dataframe\">\n",
       "  <thead>\n",
       "    <tr style=\"text-align: right;\">\n",
       "      <th></th>\n",
       "      <th>STATEFP</th>\n",
       "      <th>COUNTYFP</th>\n",
       "      <th>TRACTCE</th>\n",
       "      <th>GEOID</th>\n",
       "      <th>NAME</th>\n",
       "      <th>NAMELSAD</th>\n",
       "      <th>MTFCC</th>\n",
       "      <th>FUNCSTAT</th>\n",
       "      <th>ALAND</th>\n",
       "      <th>AWATER</th>\n",
       "      <th>INTPTLAT</th>\n",
       "      <th>INTPTLON</th>\n",
       "      <th>POPULATION</th>\n",
       "      <th>COUNTY</th>\n",
       "      <th>geometry</th>\n",
       "      <th>POPDEN</th>\n",
       "      <th>POPDENNORM</th>\n",
       "    </tr>\n",
       "  </thead>\n",
       "  <tbody>\n",
       "    <tr>\n",
       "      <th>0</th>\n",
       "      <td>09</td>\n",
       "      <td>009</td>\n",
       "      <td>350400</td>\n",
       "      <td>09009350400</td>\n",
       "      <td>3504</td>\n",
       "      <td>Census Tract 3504</td>\n",
       "      <td>G5020</td>\n",
       "      <td>S</td>\n",
       "      <td>424642</td>\n",
       "      <td>0</td>\n",
       "      <td>+41.5572464</td>\n",
       "      <td>-073.0300616</td>\n",
       "      <td>2846</td>\n",
       "      <td>New Haven County</td>\n",
       "      <td>POLYGON ((-73.03440 41.55468, -73.03428 41.555...</td>\n",
       "      <td>17358.498149</td>\n",
       "      <td>117.144622</td>\n",
       "    </tr>\n",
       "  </tbody>\n",
       "</table>\n",
       "</div>"
      ],
      "text/plain": [
       "  STATEFP COUNTYFP TRACTCE        GEOID  NAME           NAMELSAD  MTFCC  \\\n",
       "0      09      009  350400  09009350400  3504  Census Tract 3504  G5020   \n",
       "\n",
       "  FUNCSTAT   ALAND  AWATER     INTPTLAT      INTPTLON  POPULATION  \\\n",
       "0        S  424642       0  +41.5572464  -073.0300616        2846   \n",
       "\n",
       "              COUNTY                                           geometry  \\\n",
       "0   New Haven County  POLYGON ((-73.03440 41.55468, -73.03428 41.555...   \n",
       "\n",
       "         POPDEN  POPDENNORM  \n",
       "0  17358.498149  117.144622  "
      ]
     },
     "execution_count": 45,
     "metadata": {},
     "output_type": "execute_result"
    }
   ],
   "source": [
    "ct_tracts.head(1)"
   ]
  },
  {
   "cell_type": "code",
   "execution_count": 46,
   "id": "6ad0a45f",
   "metadata": {
    "tags": []
   },
   "outputs": [],
   "source": [
    "INITIAL_VIEW_STATE = pdk.ViewState(latitude=41.76375, \n",
    "                                   longitude=-72.69102, \n",
    "                                   zoom=9, max_zoom=16, pitch=60, bearing=0)\n",
    "\n",
    "tracts = pdk.Layer(\n",
    "    \"GeoJsonLayer\",\n",
    "    ct_tracts,\n",
    "    opacity=1,\n",
    "    stroked=True,\n",
    "    filled=True,\n",
    "    extruded=True,\n",
    "    wireframe=True,\n",
    "    pickable=True,\n",
    "    get_elevation=\"POPDEN\", # Converting to population density per sq m to per sq mile\n",
    "    get_fill_color=\"POPULATION==0?[0,0,0,0]:[POPDENNORM+95, POPDENNORM+95, POPDENNORM+95]\",\n",
    "    get_line_color=\"POPULATION==0?[0,0,0,0]:[POPDENNORM+50, POPDENNORM+50, POPDENNORM+50]\",\n",
    ")"
   ]
  },
  {
   "cell_type": "code",
   "execution_count": 47,
   "id": "0c227498",
   "metadata": {},
   "outputs": [],
   "source": [
    "r = pdk.Deck(layers=[tracts], initial_view_state=INITIAL_VIEW_STATE)"
   ]
  },
  {
   "cell_type": "code",
   "execution_count": 49,
   "id": "b2624b5c",
   "metadata": {},
   "outputs": [],
   "source": [
    "#r.to_html('./maps/ct_tracts.html')"
   ]
  },
  {
   "cell_type": "code",
   "execution_count": null,
   "id": "380faf92",
   "metadata": {},
   "outputs": [],
   "source": []
  },
  {
   "cell_type": "code",
   "execution_count": null,
   "id": "ea42b93f-17ae-4eb7-9080-c96f691730b4",
   "metadata": {},
   "outputs": [],
   "source": []
  }
 ],
 "metadata": {
  "kernelspec": {
   "display_name": "Python 3 (ipykernel)",
   "language": "python",
   "name": "python3"
  },
  "language_info": {
   "codemirror_mode": {
    "name": "ipython",
    "version": 3
   },
   "file_extension": ".py",
   "mimetype": "text/x-python",
   "name": "python",
   "nbconvert_exporter": "python",
   "pygments_lexer": "ipython3",
   "version": "3.10.6"
  },
  "toc": {
   "base_numbering": 1,
   "nav_menu": {},
   "number_sections": true,
   "sideBar": true,
   "skip_h1_title": false,
   "title_cell": "Table of Contents",
   "title_sidebar": "Contents",
   "toc_cell": false,
   "toc_position": {},
   "toc_section_display": true,
   "toc_window_display": false
  }
 },
 "nbformat": 4,
 "nbformat_minor": 5
}
