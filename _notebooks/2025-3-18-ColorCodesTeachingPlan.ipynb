{
 "cells": [
  {
   "cell_type": "markdown",
   "metadata": {},
   "source": [
    "---\n",
    "layout: post\n",
    "title: Color Codes Teaching Plan\n",
    "description:  Color Codes Teaching plan\n",
    "comments: true\n",
    "sticky_rank: 1\n",
    "---\n"
   ]
  },
  {
   "cell_type": "markdown",
   "metadata": {},
   "source": [
    "*Learning Objectives*\n",
    "\n",
    "- Understand what color codes are and why they are important in web development.\n",
    "\n",
    "- Learn the different types of color codes: Hexadecimal (Hex), RGB, and HSL.\n",
    "\n",
    "- Apply color codes in a web page using HTML and CSS."
   ]
  },
  {
   "cell_type": "markdown",
   "metadata": {},
   "source": [
    "***Introduction To Color Codes:***"
   ]
  },
  {
   "cell_type": "markdown",
   "metadata": {},
   "source": [
    "**What are Color Codes?**\n",
    "\n",
    "- Color codes are used in web development to define colors for HTML elements like text, backgrounds, and borders.\n",
    "\n",
    "- In HTML and CSS, colors are often defined using different color code formats (Hex, RGB, HSL)."
   ]
  },
  {
   "cell_type": "markdown",
   "metadata": {},
   "source": [
    "**Why Use Color Codes?**\n",
    "\n",
    "- Color codes ensure consistency in design, making sure the same colors are used throughout the website.\n",
    "\n",
    "- They make it easier for developers to communicate and work with colors programmatically."
   ]
  },
  {
   "cell_type": "markdown",
   "metadata": {},
   "source": [
    "**Types Of Color Codes** \n",
    "\n",
    "Hexidecimal Color Codes:\n",
    "\n",
    "- Hexadecimal color codes are six-character strings representing colors in a base-16 system (using numbers 0-9 and letters A-F).\n",
    "\n",
    "- The format is #RRGGBB, where:\n",
    "\n",
    "- RR represents red (00 to FF),\n",
    "- GG represents green (00 to FF),\n",
    "- BB represents blue (00 to FF).\n"
   ]
  },
  {
   "cell_type": "markdown",
   "metadata": {
    "vscode": {
     "languageId": "html"
    }
   },
   "source": [
    "**RGB**\n",
    "\n",
    "RGB is represented in intensities of color. For example, out of a 255 color scale, ranging from RR,GG,BB. \n",
    "In the RGB model, each of the three primary colors can have an intensity value ranging from 0 to 255.\n",
    "\n",
    "0 means the color is absent (no light).\n",
    "255 means the color is at full intensity (maximum brightness)."
   ]
  },
  {
   "cell_type": "markdown",
   "metadata": {},
   "source": [
    "Example: \n",
    "\n",
    "- rgb(255, 0, 0): This means full red with no green or blue. It will appear as a pure red.\n",
    "\n",
    "- rgb(0, 255, 0): This means full green with no red or blue. It will appear as a pure green.\n",
    "\n",
    "- rgb(0, 0, 255): This means full blue with no red or green. It will appear as a pure blue."
   ]
  },
  {
   "cell_type": "markdown",
   "metadata": {},
   "source": [
    "**Example**"
   ]
  },
  {
   "cell_type": "code",
   "execution_count": null,
   "metadata": {
    "vscode": {
     "languageId": "html"
    }
   },
   "outputs": [],
   "source": [
    "<!DOCTYPE html>\n",
    "<html lang=\"en\">\n",
    "<head>\n",
    "  <meta charset=\"UTF-8\">\n",
    "  <meta name=\"viewport\" content=\"width=device-width, initial-scale=1.0\">\n",
    "  <title>Hexadecimal Color Example</title>\n",
    "  <style>\n",
    "    body {\n",
    "      background-color: #FF5733;  /* Reddish-orange color */\n",
    "    }\n",
    "  </style>\n",
    "</head>\n",
    "<body>\n",
    "  <h1>Welcome to the Color Codes Lesson!</h1>\n",
    "  <p>This page uses a hexadecimal color code for the background color.</p>\n",
    "</body>\n",
    "</html>\n"
   ]
  },
  {
   "cell_type": "markdown",
   "metadata": {},
   "source": [
    "**Explanation of the Example:**\n",
    "\n",
    "- The background color of the page is set to #FF5733 (a reddish-orange color).\n",
    "\n",
    "- #FF5733: FF is the red component (255), 57 is the green component (87), and 33 is the blue component (51)."
   ]
  },
  {
   "cell_type": "markdown",
   "metadata": {},
   "source": [
    "Converting RGB to Hex:\n",
    "\n",
    "- To convert rgb(255, 87, 51) into its Hex equivalent #FF5733, we need to convert each of the RGB components from decimal (base-10) to hexadecimal (base-16):\n",
    "\n",
    "- In order to convert from RBG to Hex, you need to divide the RGB by 16 and the resulting numbers will correspond to letters/numbers\n",
    "\n",
    "**For Example:**\n",
    "\n",
    "- To convert 255 to hexadecimal, divide 255 by 16:\n",
    "- 255 ÷ 16 = 15 remainder 15.\n",
    "- The quotient 15 is written as F in Hex.\n",
    "- The remainder 15 is also written as F in Hex.\n",
    "\n",
    "\n",
    "The second component is green, which has a value of 87 in decimal.\n",
    "\n",
    "- Decimal to Hex Conversion:\n",
    "- To convert 87 to hexadecimal, divide 87 by 16:\n",
    "- 87 ÷ 16 = 5 remainder 7.\n",
    "- The quotient 5 is written as 5 in Hex.\n",
    "- The remainder 7 is written as 7 in Hex.\n",
    "\n",
    "and so on and so on..."
   ]
  },
  {
   "cell_type": "markdown",
   "metadata": {},
   "source": [
    "**Summary:**\n",
    "\n",
    "\n",
    "- RGB (255, 87, 51) is a way of saying:\n",
    "\n",
    "- 100% red intensity, 34% green intensity, and 20% blue intensity.\n",
    "- #FF5733 is the Hexadecimal representation of the same color, where:\n",
    "- FF represents red, 57 represents green, and 33 represents blue."
   ]
  },
  {
   "cell_type": "markdown",
   "metadata": {},
   "source": [
    "**Popcorn Hack #1**\n",
    "\n",
    "<img src=\"{{site.baseurl}}/images/Screenshot 2025-03-20 at 9.26.44 AM.png\" alt=\"DataMango\" style=\"width:100%; max-width:600px;\">"
   ]
  },
  {
   "cell_type": "markdown",
   "metadata": {},
   "source": [
    "Analyze 5 likely color combinations for the image above, explain which colors and sets you chose. \n",
    "\n",
    "Convert First into RGB, Then Hexidecimal Code."
   ]
  },
  {
   "cell_type": "markdown",
   "metadata": {},
   "source": [
    "**Homework Hack #1**\n",
    "\n",
    "Choose any image you like, and then create data for RGB, Hexidecimal Code, \n",
    "\n",
    "IF you add Binary you get extra credit "
   ]
  },
  {
   "cell_type": "markdown",
   "metadata": {},
   "source": [
    "Example From Mr Mort.\n",
    "\n",
    "<img src=\"{{site.baseurl}}/images/Screenshot 2025-03-20 at 6.01.52 PM.png\" alt=\"DataMango\" style=\"width:100%; max-width:600px;\">\n",
    "\n"
   ]
  }
 ],
 "metadata": {
  "language_info": {
   "name": "python"
  }
 },
 "nbformat": 4,
 "nbformat_minor": 2
}
