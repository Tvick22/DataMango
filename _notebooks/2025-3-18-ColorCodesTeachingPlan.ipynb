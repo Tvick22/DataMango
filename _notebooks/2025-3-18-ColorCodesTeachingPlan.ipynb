{
 "cells": [
  {
   "cell_type": "markdown",
   "metadata": {},
   "source": [
    "---\n",
    "layout: post\n",
    "title: Color Codes Teaching Plan\n",
    "description:  Color Codes Teaching plan\n",
    "comments: true\n",
    "sticky_rank: 1\n",
    "---\n"
   ]
  },
  {
   "cell_type": "markdown",
   "metadata": {},
   "source": [
    "*Learning Objectives*\n",
    "\n",
    "- Understand what color codes are and why they are important in web development.\n",
    "\n",
    "- Learn the different types of color codes: Hexadecimal (Hex), RGB, and HSL.\n",
    "\n",
    "- Apply color codes in a web page using HTML and CSS."
   ]
  },
  {
   "cell_type": "markdown",
   "metadata": {},
   "source": [
    "***Introduction To Color Codes***"
   ]
  },
  {
   "cell_type": "markdown",
   "metadata": {},
   "source": [
    "**What are Color Codes?**\n",
    "\n",
    "- Color codes are used in web development to define colors for HTML elements like text, backgrounds, and borders.\n",
    "\n",
    "- In HTML and CSS, colors are often defined using different color code formats (Hex, RGB, HSL)."
   ]
  },
  {
   "cell_type": "markdown",
   "metadata": {},
   "source": [
    "**Why Use Color Codes?**\n",
    "\n",
    "- Color codes ensure consistency in design, making sure the same colors are used throughout the website.\n",
    "\n",
    "- They make it easier for developers to communicate and work with colors programmatically."
   ]
  },
  {
   "cell_type": "markdown",
   "metadata": {},
   "source": [
    "**Types Of Color Codes** \n",
    "\n",
    "Hexidecimal Color Codes:\n",
    "\n",
    "- Hexadecimal color codes are six-character strings representing colors in a base-16 system (using numbers 0-9 and letters A-F).\n",
    "\n",
    "- The format is #RRGGBB, where:\n",
    "\n",
    "- RR represents red (00 to FF),\n",
    "- GG represents green (00 to FF),\n",
    "- BB represents blue (00 to FF).\n"
   ]
  },
  {
   "cell_type": "markdown",
   "metadata": {},
   "source": [
    "**Example**"
   ]
  },
  {
   "cell_type": "code",
   "execution_count": null,
   "metadata": {
    "vscode": {
     "languageId": "html"
    }
   },
   "outputs": [],
   "source": [
    "<!DOCTYPE html>\n",
    "<html lang=\"en\">\n",
    "<head>\n",
    "  <meta charset=\"UTF-8\">\n",
    "  <meta name=\"viewport\" content=\"width=device-width, initial-scale=1.0\">\n",
    "  <title>Hexadecimal Color Example</title>\n",
    "  <style>\n",
    "    body {\n",
    "      background-color: #FF5733;  /* Reddish-orange color */\n",
    "    }\n",
    "  </style>\n",
    "</head>\n",
    "<body>\n",
    "  <h1>Welcome to the Color Codes Lesson!</h1>\n",
    "  <p>This page uses a hexadecimal color code for the background color.</p>\n",
    "</body>\n",
    "</html>\n"
   ]
  },
  {
   "cell_type": "markdown",
   "metadata": {},
   "source": [
    "**Explanation of the Example:**\n",
    "\n",
    "- The background color of the page is set to #FF5733 (a reddish-orange color).\n",
    "\n",
    "- #FF5733: FF is the red component (255), 57 is the green component (87), and 33 is the blue component (51)."
   ]
  }
 ],
 "metadata": {
  "language_info": {
   "name": "python"
  }
 },
 "nbformat": 4,
 "nbformat_minor": 2
}
