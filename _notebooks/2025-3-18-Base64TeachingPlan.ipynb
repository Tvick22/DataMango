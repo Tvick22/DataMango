{
 "cells": [
  {
   "cell_type": "markdown",
   "metadata": {},
   "source": [
    "---\n",
    "layout: post\n",
    "title: Base 64 Teaching Plan\n",
    "description: Base 64 Teaching plan\n",
    "comments: true\n",
    "sticky_rank: 1\n",
    "---"
   ]
  },
  {
   "cell_type": "markdown",
   "metadata": {},
   "source": [
    "**Learning Objectives**\n",
    "\n",
    "- Understand what Base64 encoding is and why it is used.\n",
    "\n",
    "\n",
    "- Learn how to encode and decode data using Base64 in Python.\n",
    "\n",
    "\n",
    "- Explore real-world applications and related encoding techniques.\n"
   ]
  },
  {
   "cell_type": "markdown",
   "metadata": {},
   "source": [
    "**Introduction to Base64**\n",
    "\n",
    "- Base64 is a way to convert data (like text or images) into a set of 64 different characters so it can be safely stored or sent without getting corrupted.\n",
    "\n",
    "- Base64 is an encoding scheme that converts binary data into a text-based format.\n",
    "\n",
    "\n",
    "- It is not encryption; it is a reversible encoding technique used for safe data transmission."
   ]
  },
  {
   "cell_type": "markdown",
   "metadata": {},
   "source": [
    "**Why Use Base64?**\n",
    "\n",
    "- Ensures that binary data (like images, files, or special characters) can be safely transmitted over text-based media.\n",
    "\n",
    "\n",
    "- Helps avoid issues with special or non-printable characters in systems like emails, APIs, and web development."
   ]
  },
  {
   "cell_type": "markdown",
   "metadata": {},
   "source": [
    "**Variations of Base64**\n",
    "\n",
    "- Standard Base64 – Uses A-Z, a-z, 0-9, +, / with = padding.\n",
    "\n",
    "\n",
    "- URL-Safe Base64 – Uses - and _ instead of + and /.\n",
    "\n",
    "\n",
    "- Base64 without Padding – Removes = for size efficiency."
   ]
  },
  {
   "cell_type": "markdown",
   "metadata": {},
   "source": [
    "\n",
    "### Example of Base64 Encoding  \n",
    "\n",
    "Base64 is a way to encode data into a safe, text-based format. It takes regular text and converts it into a set of **64 characters** (A-Z, a-z, 0-9, +, /), often with `=` padding at the end.  \n",
    "\n",
    "#### Example: Encoding \"Hello\" in Base64  \n",
    "\n",
    "Original text: Hello\n",
    "Binary format: 01001000 01100101 01101100 01101100 01101111\n",
    "Base64 output: SGVsbG8=\n",
    "\n",
    "\n",
    "\n",
    "\n",
    "The word **\"Hello\"** gets converted into a Base64 string **\"SGVsbG8=\"**, which is safe for storage and transmission.  \n",
    "\n",
    "Base64 is commonly used in emails, images, and web data encoding to prevent corruption.\n"
   ]
  },
  {
   "cell_type": "markdown",
   "metadata": {},
   "source": [
    "### Applications\n",
    "\n",
    "- Social Media & Profile Pictures \n",
    "\n",
    "- Websites like Instagram and Snapchat use Base64 to store small images (like profile pictures) directly in code instead of separate files.\n",
    "Sending Images & Files in Text Messages \n",
    "\n",
    "- When you send an image through apps like Discord or iMessage, Base64 helps convert the image into text so it can be sent more easily.\n",
    "Encoding Passwords & Data Security \n",
    "\n",
    "- Some websites use Base64 to store and safely transfer login credentials, though it’s not a secure way to encrypt passwords.\n",
    "Watching YouTube Videos & Streaming \n",
    "\n",
    "- Video thumbnails, previews, and even some metadata use Base64 encoding to load faster on your screen.\n",
    "QR Codes & Barcodes \n",
    "\n",
    "- Base64 is often used behind the scenes to store encoded information in QR codes (like when you scan a code for concert tickets or a menu).\n",
    "Storing Emojis in Code \n",
    "\n",
    "- When you use emojis in programming or on websites, they’re often stored in Base64 to make them work across different devices."
   ]
  },
  {
   "cell_type": "markdown",
   "metadata": {},
   "source": [
    "### Popcorn Hack:\n",
    "\n",
    "Come up with two potential downsides to using base64 as opposed to methods like compression or encryption."
   ]
  },
  {
   "cell_type": "markdown",
   "metadata": {},
   "source": [
    "**Relevant Topics**\n",
    "\n",
    "- Encoding vs Encryption – Base64 is encoding, not encryption.\n",
    "\n",
    "- Base64 in JWT (JSON Web Tokens) – Stores user authentication info in web applications.\n",
    "\n",
    "- Performance Considerations – Increases data size, affecting efficiency in large-scale applications."
   ]
  },
  {
   "cell_type": "markdown",
   "metadata": {},
   "source": [
    "**Summary**\n",
    "\n",
    "- Base64 encodes binary data into a text-friendly format.\n",
    "\n",
    "- It is widely used in web development, APIs, and authentication.\n",
    "\n",
    "- Encoding and decoding are simple using Python’s base64 module.\n",
    "\n",
    "- Base64 is not encryption and should not be used for security purposes."
   ]
  },
  {
   "cell_type": "markdown",
   "metadata": {},
   "source": [
    "### Homework Hack:\n",
    "\n",
    "\n",
    "For this task, convert your first name (or any word of your choice) into Base64.\n",
    "\n",
    "Use an online Base64 encoder or write a simple Python script to convert your name into Base64."
   ]
  }
 ],
 "metadata": {
  "kernelspec": {
   "display_name": "Python 3",
   "language": "python",
   "name": "python3"
  },
  "language_info": {
   "name": "python",
   "version": "3.12.7"
  }
 },
 "nbformat": 4,
 "nbformat_minor": 2
}
